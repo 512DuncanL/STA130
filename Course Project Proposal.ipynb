{
 "cells": [
  {
   "cell_type": "markdown",
   "id": "fd60435d",
   "metadata": {},
   "source": [
    "## Proposal 1"
   ]
  },
  {
   "cell_type": "markdown",
   "id": "56ecbb0f",
   "metadata": {},
   "source": [
    "Research Question: Is there a relationship between if someone is more \"collective\" or \"individual\" and their mental health?"
   ]
  },
  {
   "cell_type": "markdown",
   "id": "5e3d776c",
   "metadata": {},
   "source": [
    "Variables: \n",
    " - `WELLNESS_self_rated_mental_health`: should be visualized by bar chart\n",
    " - `PSYCH_cultural_orientation_scale_<x>__collectivism_<x>`: should be visualized by stacked bar chart\n",
    " - `PSYCH_cultural_orientation_scale_<x>_individualism_<x>`: should be visualized by stacked bar chart\n",
    " \n",
    "Other Visualisations:\n",
    " - Histograms should be used to visualize the means of the \"collectivism\" and \"individualism\" variables\n",
    " - A bar chart (or stacked bar chart) should be used to visualize the number of people that are more \"collective\" or \"individual\"\n",
    " - A histogram and overlapping KDE should be used to visualize the bootstrapped sampling distribution, and the confidence interval should be plotted on top as well"
   ]
  },
  {
   "cell_type": "markdown",
   "id": "14a52b6d",
   "metadata": {},
   "source": [
    "I aim to determine if there is a relationship between if someone is more \"collective\" or \"individual\" (by comparing the mean of all `PSYCH_cultural_orientation_scale_<x>__collectivism_<x>` variables with the mean of all `PSYCH_cultural_orientation_scale_<x>_individualism_<x>` variables and seeing which one is higher) and if a person feels that their mental health is poor (`WELLNESS_self_rated_mental_health` is \"Poor\").\n",
    "\n",
    "My hypothesis is that people who are more individual than they are collective are statistically more likely to have poort mental health (so `WELLNESS_self_rated_mental_health` will be \"Poor\") and that people with a higher average `..._collectivism_...` score than `..._individualism_...` are statistically likely to *NOT* have poor mental health (so `WELLNESS_self_rated_mental_health` will be not \"Poor\").\n",
    "\n",
    "To test my hypothesis, I will conduct two tests. All observations containing NaN or \"Presented but no response\" for any variables used in this investigation will be dropped. \n",
    "\n",
    "For my first test, I will determine the proportion of people in the dataset that have poor mental health and use it to create a bootstrapped sampling distribution. I will then calculate the proportion of \"more individual than collective\" people in the dataset that have poor mental health, and conduct a one tailed test. The null hypothesis will be that the proportion is less than the value at the 95th percentile mark of the bootstrapped sampling distribution, and the alternative hypothesis will be that the proportion is greater than or equal to it.\n",
    "\n",
    "For my second test, I will determine the proportion of people in the dataset that do not have poor mental health and use it to create a bootstrapped sampling distribution. I will then calculate the proportion of \"more collective than individual\" people in the dataset that do not have poor mental health, and conduct a one tailed test. The null hypothesis will be that the proportion is less than the value at the 95th percentile mark of the bootstrapped sampling distribution, and the alternative hypothesis will be that the proportion is greater than or equal to it.\n",
    "\n",
    "If the null hypothesis is rejected for both tests, then my hypothesis will be true. Alternatively, if one of the null hypotheses are rejected, the relationship between if a person is more \"individual\" or more \"collective\" and if a person has poor mental health may be more unclear and may need to be explored in other ways. Finally, if both null nypotheses are rejected there may not be much of a relationship between if a person is collective/individual and their mental health. This investigation is relevant to the objectives of the course project as it may identify if there is a relationship between prefering to have less social connections/engagement (i.e. more \"individual\" than \"collective\") and poor mental health. If the investigation shows that the hypothesis is true, the findings could be used to raise awareness about the importance of social connection regarding mental health and possibly identify people that may be more prone to having poor mental health."
   ]
  },
  {
   "cell_type": "markdown",
   "id": "8a52b6e0",
   "metadata": {},
   "source": [
    "## Proposal 2"
   ]
  },
  {
   "cell_type": "markdown",
   "id": "edea2149",
   "metadata": {},
   "source": [
    "Research Question: Is there a correlation between the amount of social support a person gets and their life satisfaction?"
   ]
  },
  {
   "cell_type": "markdown",
   "id": "935c1a2c",
   "metadata": {},
   "source": [
    "Variables: \n",
    " - `PSYCH_zimet_multidimensional_social_support_scale_<x>`: should be visualized with a stacked bar chart\n",
    " - `WELLNESS_life_satisfaction`: should be visualized with a bar chart (or stacked bar chart)\n",
    " \n",
    "Visualizations:\n",
    " - Histogram of mean `PSYCH_zimet_multidimensional_social_support_scale_<x>`\n",
    " - Scatter plot with the mean `PSYCH_zimet_multidimensional_social_support_scale_<x>` score and linear regression model with 95% confidence interval zone plotted on top"
   ]
  },
  {
   "cell_type": "markdown",
   "id": "6b6ec2d1",
   "metadata": {},
   "source": [
    "I aim to determine if there is a positive correlation between the amount of social support a person gets (the mean value of all `PSYCH_zimet_multidimensional_social_support_scale_<x>` variables for a given person) and their life satisfaction (their `WELLNESS_life_satisfaction` value).\n",
    "\n",
    "My hypothesis is that there is a positive correlation between the amount of social support a person gets and their life satisfaction.\n",
    "\n",
    "Before testing my hypothesis, all observations containing NaN and \"Presented but no responses values\" for relevant variables will be dropped, and \"Very Strongly Disagree\", \"Strongly Disagree\", \"Disagree\", \"Neither Agree Nor Disagree\", \"Agree\", \"Strongly Agree\", \"Very Strongly Agree\" will be converted into integer values from 1-7 respectively.\n",
    "\n",
    "To test my hypothesis, I will fit a linear regression model, with the mean social support score as the input and the life satisfaction value as output. The null hypothesis that the predictor less than or equal to zero (i.e. there is no correlation or a negative correlation between social support and life satisfaction), and the alternative hypothesis is that the predictor greater than zero. Next, I will check there is an overlap between the ranges (-infin, 0] and the 95% confidence interval of the fitted model's predictor. If it is, that means that the null hypothesis cannot be rejected, and therefore we cannot be confident that there is a positive correlation between social support and life satisfaction. Otherwise, that means that there is a positive correlation between the amount of social support a person gets and their life satisfaction. This investigation is relevant to the objectives of the course project as it may help identify the relationship between the amount of social support a person gets and their life satisfaction. If the data shows that there is a strong positive correlation, it could also be used to raise awareness about the importance of social support and connection regarding life satisfaction, which is a factor in mental health and wellbeing."
   ]
  },
  {
   "cell_type": "markdown",
   "id": "98fa6826",
   "metadata": {},
   "source": [
    "## Proposal 3"
   ]
  },
  {
   "cell_type": "markdown",
   "id": "78e8a6f0",
   "metadata": {},
   "source": [
    "Research Question: Are people that socialize more often with their family statistically less likely to abuse substances?"
   ]
  },
  {
   "cell_type": "markdown",
   "id": "92e4b9d9",
   "metadata": {},
   "source": [
    "Variables:\n",
    " - `SUBSTANCE_USE_drugs_<x>`: Visualise with stacked bar chart\n",
    " - `CONNECTION_social_days_family_p7d_grouped`: Visualise with bar chart\n",
    " \n",
    "Visualizations:\n",
    " - New bar chart that combines all `SUBSTANCE_USE_drugs_<x>` answers into one (the highest frequency is saved)\n",
    " - Bar chart (or stacked bar chart) showing people that abused substances / didnt abuse substances in the last 6 months\n",
    " - Histogram with KDE and 95% confidence interval bootstrapped sampling distribution for proportion of people that abuse substances for each category in `CONNECTION_social_days_family_p7d_grouped`\n",
    " - Scatter plot with number of days per week spent socializing with family on x-axis and proportion of people that abuse substances (with confidence intervals) on y-axis, and linear regression model and its 95% confidence interval plotted on top"
   ]
  },
  {
   "cell_type": "markdown",
   "id": "9cb96734",
   "metadata": {},
   "source": [
    "I aim to determine if people that socialize more often with their family (`CONNECTION_social_days_family_p7d_grouped`) are statistically less likely to abuse substances (substance abuse meaning that they answered anything other than \"Not in the last 6 months\" for any `SUBSTANCE_USE_drugs_<x>`)."
   ]
  },
  {
   "cell_type": "markdown",
   "id": "cc8e8cbe",
   "metadata": {},
   "source": [
    "My hypothesis is that people that socialize more often with their family are statistically less likely to abuse substances."
   ]
  },
  {
   "cell_type": "markdown",
   "id": "785e5b70",
   "metadata": {},
   "source": [
    "Before testing my hypothesis, all observations containing NaN and \"Presented but no responses values\" for relevant variables will be dropped. Futhermore, \"Some days (1-3 days)\" will be simplified into \"2 days\" and \"Most days (4 - 6 days)\" will be simplified into 5 days."
   ]
  },
  {
   "cell_type": "markdown",
   "id": "ac06bdbd",
   "metadata": {},
   "source": [
    "To test my hypothesis, I will first group the CSCS data by the number of times a week people socialize with their family. Next, I will create bootstrapped sampling distributions for the proportion of people who abuse substances for each group, and calculate the 95% confidence interval for them to conduct inference for the proportion of people for the population. I will then attempt to fit a linear regression model with the number of days a week spent socializing with family as the input and the proportion of people that abuse substances (with confidence intervals calculated in the previous step) as the output. The null hypothesis is that the predictor of the fitted model is greater than or equal to zero (meaning that there is no correlation or a positive correlation), and the alternative hypothesis is that the predictor is less than zero (meaning there is a negative correlation). Next, I will check if there is an overlap between the ranges \\[0, infin) and the 95\\% confidence interval. If there is, that means that the null hypothesis cannot be rejected, and it may be the case that people that socialize more often with their family aren't statistically less likely to abuse substances. Otherwise, I will have shown that people who socialize more often with their family are statistically less likely to abuse substances. This investigation is relavant to the course objectives as it could help show the importance of having a strong social connection on our physical and mental health (which is affected by abusing substances)."
   ]
  },
  {
   "cell_type": "markdown",
   "id": "2e04f366",
   "metadata": {},
   "source": [
    "## Checking dataset values"
   ]
  },
  {
   "cell_type": "code",
   "execution_count": 1,
   "id": "dd548aab",
   "metadata": {},
   "outputs": [
    {
     "name": "stderr",
     "output_type": "stream",
     "text": [
      "/tmp/ipykernel_85/2995334460.py:8: DtypeWarning: Columns (408,1001,1002,1006,1007,1008,1080,1113,1115,1116,1117,1118,1119,1120,1121,1124,1125,1126,1127,1128,1213,1214,1215,1216,1217,1218,1342,1343,1344,1345,1346,1347,1348,1349,1390,1391,1393,1463,1549,1552,1555,1558,1561) have mixed types. Specify dtype option on import or set low_memory=False.\n",
      "  df = pd.concat(chunks, ignore_index=True)\n"
     ]
    }
   ],
   "source": [
    "import pandas as pd\n",
    "\n",
    "# Load the CSV file in chunks\n",
    "chunksize = 10**6  # Adjust chunk size as needed\n",
    "chunks = pd.read_csv(\"CSCS_data_anon.csv\", chunksize=chunksize)\n",
    "\n",
    "# Combine chunks into a single DataFrame\n",
    "df = pd.concat(chunks, ignore_index=True)"
   ]
  },
  {
   "cell_type": "code",
   "execution_count": 4,
   "id": "5d81c8dc",
   "metadata": {},
   "outputs": [
    {
     "name": "stdout",
     "output_type": "stream",
     "text": [
      "{nan, 'Fair', 'Presented but no response', 'Excellent', 'Poor', 'Good', 'Very good'}\n"
     ]
    }
   ],
   "source": [
    "print(set(df[\"WELLNESS_self_rated_mental_health\"]))"
   ]
  },
  {
   "cell_type": "code",
   "execution_count": 5,
   "id": "863f40d7",
   "metadata": {},
   "outputs": [
    {
     "name": "stdout",
     "output_type": "stream",
     "text": [
      "{'(9) Always or definitely yes', 'Presented but no response', '7', '9 (Always or definitely yes)', '2', '6', '8', '3', '1 (Never or definitely no)', nan, '5', '4'}\n"
     ]
    }
   ],
   "source": [
    "print(set(df[\"PSYCH_cultural_orientation_scale_horizontal_collectivism_proud\"]))"
   ]
  },
  {
   "cell_type": "code",
   "execution_count": 3,
   "id": "d563eb76",
   "metadata": {},
   "outputs": [
    {
     "name": "stdout",
     "output_type": "stream",
     "text": [
      "{'Agree', 'Very Strongly Disagree', 'Strongly Disagree', 'Very Strongly Agree', 'Strongly Agree', 'Presented but no response', nan, 'Neither Agree Nor Disagree', 'Disagree'}\n"
     ]
    }
   ],
   "source": [
    "print(set(df[\"PSYCH_zimet_multidimensional_social_support_scale_help\"]))"
   ]
  },
  {
   "cell_type": "code",
   "execution_count": 4,
   "id": "51ad617a",
   "metadata": {},
   "outputs": [
    {
     "name": "stdout",
     "output_type": "stream",
     "text": [
      "{1.0, 2.0, 3.0, 4.0, 5.0, 6.0, 7.0, 8.0, 9.0, 10.0, nan, nan, nan, nan, nan, nan, nan, nan, nan, nan, nan, nan, nan, nan, nan, nan, nan, nan, nan, nan, nan, nan, nan, nan, nan, nan, nan, nan, nan, nan, nan, nan, nan, nan, nan, nan, nan, nan, nan, nan, nan, nan, nan, nan, nan, nan, nan, nan, nan, nan, nan, nan, nan, nan, nan, nan, nan, nan, nan, nan, nan, nan, nan, nan, nan, nan, nan, nan, nan, nan, nan, nan, nan, nan, nan, nan, nan, nan, nan, nan, nan, nan, nan, nan, nan, nan, nan, nan, nan, nan, nan, nan, nan, nan, nan, nan, nan, nan, nan, nan, nan, nan, nan, nan, nan, nan, nan, nan, nan, nan, nan, nan, nan, nan, nan, nan, nan, nan, nan, nan, nan, nan, nan, nan, nan, nan, nan, nan, nan, nan, nan, nan, nan, nan, nan, nan, nan, nan, nan, nan, nan, nan, nan, nan, nan, nan, nan, nan, nan, nan, nan, nan, nan, nan, nan, nan, nan, nan, nan, nan, nan, nan, nan, nan, nan, nan, nan, nan, nan, nan, nan, nan, nan, nan, nan, nan, nan, nan, nan, nan, nan, nan, nan, nan, nan, nan, nan, nan, nan, nan, nan, nan, nan, nan, nan, nan, nan, nan, nan, nan, nan, nan, nan, nan, nan, nan, nan, nan, nan, nan, nan, nan, nan, nan, nan, nan, nan, nan, nan, nan, nan, nan, nan, nan, nan, nan, nan, nan, nan, nan, nan, nan, nan, nan, nan, nan, nan, nan, nan, nan, nan, nan, nan, nan, nan, nan, nan, nan, nan, nan, nan, nan, nan, nan, nan, nan, nan, nan, nan, nan, nan, nan, nan, nan, nan, nan, nan, nan, nan, nan, nan, nan, nan, nan, nan, nan, nan, nan, nan, nan, nan, nan, nan, nan, nan, nan, nan, nan, nan, nan, nan, nan, nan, nan, nan, nan, nan, nan, nan, nan, nan, nan, nan, nan, nan, nan, nan, nan, nan, nan, nan, nan, nan, nan, nan, nan, nan, nan, nan, nan, nan, nan, nan, nan, nan, nan, nan, nan, nan, nan, nan, nan, nan, nan, nan, nan, nan, nan, nan, nan, nan, nan, nan, nan, nan, nan, nan, nan, nan, nan, nan, nan, nan, nan, nan, nan, nan, nan, nan, nan, nan, nan, nan, nan, nan, nan, nan, nan, nan, nan, nan, nan, nan, nan, nan, nan, nan, nan, nan, nan, nan, nan, nan, nan, nan, nan, nan, nan, nan, nan, nan, nan, nan, nan, nan, nan, nan, nan, nan, nan, nan, nan, nan, nan, nan, nan, nan, nan, nan, nan, nan, nan, nan, nan, nan, nan, nan, nan, nan, nan, nan, nan, nan, nan, nan, nan, nan, nan, nan, nan, nan, nan, nan, nan, nan, nan, nan, nan, nan, nan, nan, nan, nan, nan, nan, nan, nan, nan, nan, nan, nan, nan, nan, nan, nan, nan, nan, nan, nan, nan, nan, nan, nan, nan, nan, nan, nan, nan, nan, nan, nan, nan, nan, nan, nan, nan, nan, nan, nan, nan, nan, nan, nan, nan, nan, nan, nan, nan, nan, nan, nan, nan, nan, nan, nan, nan, nan, nan, nan, nan, nan, nan, nan, nan, nan, nan, nan, nan, nan, nan, nan, nan, nan, nan, nan, nan, nan, nan, nan, nan, nan, nan, nan, nan, nan, nan, nan, nan, nan, nan, nan, nan, nan, nan, nan, nan, nan, nan, nan, nan, nan, nan, nan, nan, nan, nan, nan, nan, nan, nan, nan, nan, nan, nan, nan, nan, nan, nan, nan, nan, nan, nan, nan, nan, nan, nan, nan, nan, nan, nan, nan, nan, nan, nan, nan, nan, nan, nan, nan, nan, nan, nan, nan, nan, nan, nan, nan, nan, nan, nan, nan, nan, nan, nan, nan, nan, nan, nan, nan, nan, nan, nan, nan, nan, nan, nan, nan, nan, nan, nan, nan, nan, nan, nan, nan, nan, nan, nan, nan, nan, nan, nan, nan, nan, nan, nan, nan, nan, nan, nan, nan, nan, nan, nan, nan, nan, nan, nan, nan, nan, nan, nan, nan, nan, nan, nan, nan, nan, nan, nan, nan, nan, nan, nan, nan, nan, nan, nan, nan, nan, nan, nan, nan, nan, nan, nan, nan, nan, nan, nan, nan, nan, nan, nan, nan, nan, nan, nan, nan, nan, nan, nan, nan, nan, nan, nan, nan, nan, nan, nan, nan, nan, nan, nan, nan, nan, nan, nan, nan, nan, nan, nan, nan, nan, nan, nan, nan, nan, nan, nan, nan, nan, nan, nan, nan, nan, nan, nan, nan, nan, nan, nan, nan, nan, nan, nan, nan, nan, nan, nan, nan, nan, nan, nan, nan, nan, nan, nan, nan, nan, nan, nan, nan, nan, nan, nan, nan, nan, nan, nan, nan, nan, nan, nan, nan, nan, nan, nan, nan, nan, nan, nan, nan, nan, nan, nan, nan, nan, nan, nan, nan, nan, nan, nan, nan, nan, nan, nan, nan, nan, nan, nan, nan, nan, nan, nan, nan, nan, nan, nan, nan, nan, nan, nan, nan, nan, nan, nan, nan, nan, nan, nan, nan, nan, nan, nan, nan, nan, nan, nan, nan, nan, nan, nan, nan, nan, nan, nan, nan, nan, nan, nan, nan, nan, nan, nan, nan, nan, nan, nan, nan, nan, nan, nan, nan, nan, nan, nan, nan, nan, nan, nan, nan, nan, nan, nan, nan, nan, nan, nan, nan, nan, nan, nan, nan, nan, nan, nan, nan, nan, nan, nan, nan, nan, nan, nan, nan, nan, nan, nan, nan, nan, nan, nan, nan, nan, nan, nan, nan, nan, nan, nan, nan, nan, nan, nan, nan, nan, nan, nan, nan, nan, nan, nan, nan, nan, nan, nan, nan, nan, nan, nan, nan, nan, nan, nan, nan, nan, nan, nan, nan, nan, nan, nan, nan, nan, nan, nan, nan, nan, nan, nan, nan, nan, nan, nan, nan, nan, nan, nan, nan, nan, nan, nan, nan, nan, nan, nan, nan, nan, nan, nan, nan, nan, nan, nan, nan, nan, nan, nan, nan, nan, nan, nan, nan, nan, nan, nan, nan, nan, nan, nan, nan, nan, nan, nan, nan, nan, nan, nan, nan, nan, nan, nan, nan, nan, nan, nan, nan, nan, nan, nan, nan, nan, nan, nan, nan, nan, nan, nan, nan, nan, nan, nan, nan, nan, nan, nan, nan, nan, nan, nan, nan, nan, nan, nan, nan, nan, nan, nan, nan, nan, nan, nan, nan, nan, nan, nan, nan, nan, nan, nan, nan, nan, nan, nan, nan, nan, nan, nan, nan, nan, nan, nan, nan, nan, nan, nan, nan, nan, nan, nan, nan, nan, nan, nan, nan, nan, nan, nan, nan, nan, nan, nan, nan, nan, nan, nan, nan, nan, nan, nan, nan, nan, nan, nan, nan, nan, nan, nan, nan, nan, nan, nan, nan, nan, nan, nan, nan, nan, nan, nan, nan, nan, nan, nan, nan, nan, nan, nan, nan, nan, nan, nan, nan, nan, nan, nan, nan, nan, nan, nan, nan, nan, nan, nan, nan, nan, nan, nan, nan, nan, nan, nan, nan, nan, nan, nan, nan, nan, nan, nan, nan, nan, nan, nan, nan, nan, nan, nan, nan, nan, nan, nan, nan, nan, nan, nan, nan, nan, nan, nan, nan, nan, nan, nan, nan, nan, nan, nan, nan, nan, nan, nan, nan, nan, nan, nan, nan, nan, nan, nan, nan, nan, nan, nan, nan, nan, nan, nan, nan, nan, nan, nan, nan, nan, nan, nan, nan, nan, nan, nan, nan, nan, nan, nan, nan, nan, nan, nan, nan, nan, nan, nan, nan, nan, nan, nan, nan, nan, nan, nan, nan, nan, nan, nan, nan, nan, nan, nan, nan, nan, nan, nan, nan, nan, nan, nan, nan, nan, nan, nan, nan, nan, nan, nan, nan, nan, nan, nan, nan, nan, nan, nan, nan, nan, nan, nan, nan, nan, nan, nan, nan, nan, nan, nan, nan, nan, nan, nan, nan, nan, nan, nan, nan, nan, nan, nan, nan, nan, nan, nan, nan, nan, nan, nan, nan, nan, nan, nan, nan, nan, nan, nan, nan, nan, nan, nan, nan, nan, nan, nan, nan, nan, nan, nan, nan, nan, nan, nan, nan, nan, nan, nan, nan, nan, nan, nan, nan, nan, nan, nan, nan, nan, nan, nan, nan, nan, nan, nan, nan, nan, nan, nan, nan, nan, nan, nan, nan, nan, nan, nan, nan, nan, nan, nan, nan, nan, nan, nan, nan, nan, nan, nan, nan, nan, nan, nan, nan, nan, nan, nan, nan, nan, nan, nan, nan, nan, nan, nan, nan, nan, nan, nan, nan, nan, nan, nan, nan, nan, nan, nan, nan, nan, nan, nan, nan, nan, nan, nan, nan, nan, nan, nan, nan, nan, nan, nan, nan, nan, nan, nan, nan, nan, nan, nan, nan, nan, nan, nan, nan, nan, nan, nan, nan, nan, nan, nan, nan, nan, nan, nan, nan, nan, nan, nan, nan, nan, nan, nan, nan, nan, nan, nan, nan, nan, nan, nan, nan, nan, nan, nan, nan, nan, nan, nan, nan, nan, nan, nan, nan, nan, nan, nan, nan, nan, nan, nan, nan, nan, nan, nan, nan, nan, nan, nan, nan, nan, nan, nan, nan, nan, nan, nan, nan, nan, nan, nan, nan, nan, nan, nan, nan, nan, nan, nan, nan, nan, nan, nan, nan, nan, nan, nan, nan, nan, nan, nan, nan, nan, nan, nan, nan, nan, nan, nan, nan, nan, nan, nan, nan, nan, nan, nan, nan, nan, nan, nan, nan, nan, nan, nan, nan, nan, nan, nan, nan, nan, nan, nan, nan, nan, nan, nan, nan, nan, nan, nan, nan, nan, nan, nan, nan, nan, nan, nan, nan, nan, nan, nan, nan, nan, nan, nan, nan, nan, nan, nan, nan, nan, nan, nan, nan, nan, nan, nan, nan, nan, nan, nan, nan, nan, nan, nan, nan, nan, nan, nan, nan, nan, nan, nan, nan, nan, nan, nan, nan, nan, nan, nan, nan, nan, nan, nan, nan, nan, nan, nan, nan, nan, nan, nan, nan, nan, nan, nan, nan, nan, nan, nan, nan, nan, nan, nan, nan, nan, nan, nan, nan, nan, nan, nan, nan, nan, nan, nan, nan, nan, nan, nan, nan, nan, nan, nan, nan, nan, nan, nan, nan, nan, nan, nan, nan, nan, nan, nan, nan, nan, nan, nan, nan, nan, nan, nan, nan, nan, nan, nan, nan, nan, nan, nan, nan, nan, nan, nan, nan, nan, nan, nan, nan, nan, nan, nan, nan, nan, nan, nan, nan, nan, nan, nan, nan, nan, nan, nan, nan, nan, nan, nan, nan, nan, nan, nan, nan, nan, nan, nan, nan, nan, nan, nan, nan, nan, nan, nan, nan, nan, nan, nan, nan, nan, nan, nan, nan, nan, nan, nan, nan, nan, nan, nan, nan, nan, nan, nan, nan, nan, nan, nan, nan, nan, nan, nan, nan, nan, nan, nan, nan, nan, nan, nan, nan, nan, nan, nan, nan, nan, nan, nan, nan, nan, nan, nan, nan, nan, nan, nan, nan, nan, nan, nan, nan, nan, nan, nan, nan, nan, nan, nan, nan, nan, nan, nan, nan, nan, nan, nan, nan, nan, nan, nan, nan, nan, nan, nan, nan, nan, nan, nan, nan, nan, nan, nan, nan, nan, nan, nan, nan, nan, nan, nan, nan, nan, nan, nan, nan, nan, nan, nan, nan, nan, nan, nan, nan, nan, nan, nan, nan, nan, nan, nan, nan, nan, nan, nan, nan, nan, nan, nan, nan, nan, nan, nan, nan, nan, nan, nan, nan, nan, nan, nan, nan, nan, nan, nan, nan, nan, nan, nan, nan, nan}\n"
     ]
    }
   ],
   "source": [
    "print(set(df[\"WELLNESS_life_satisfaction\"]))"
   ]
  },
  {
   "cell_type": "code",
   "execution_count": 11,
   "id": "d8e76c30",
   "metadata": {},
   "outputs": [
    {
     "name": "stdout",
     "output_type": "stream",
     "text": [
      "{'Less than monthly', 'Monthly', 'Weekly', 'A few times a month', 'Daily or almost daily', 'Not in the past six months', 'Presented but no response', nan, 'A few times a week'}\n"
     ]
    }
   ],
   "source": [
    "print(set(df[\"SUBSTANCE_USE_drugs_over_the_counter\"]))"
   ]
  },
  {
   "cell_type": "code",
   "execution_count": 2,
   "id": "d745aa8b",
   "metadata": {},
   "outputs": [
    {
     "name": "stdout",
     "output_type": "stream",
     "text": [
      "{'Presented but no response', 'Every day (7 days)', 'Some days (1 - 3 days)', 'None (0 Days)', nan, 'Most days (4 - 6 days)'}\n"
     ]
    }
   ],
   "source": [
    "print(set(df[\"CONNECTION_social_days_family_p7d_grouped\"]))"
   ]
  }
 ],
 "metadata": {
  "kernelspec": {
   "display_name": "Python 3 (ipykernel)",
   "language": "python",
   "name": "python3"
  },
  "language_info": {
   "codemirror_mode": {
    "name": "ipython",
    "version": 3
   },
   "file_extension": ".py",
   "mimetype": "text/x-python",
   "name": "python",
   "nbconvert_exporter": "python",
   "pygments_lexer": "ipython3",
   "version": "3.11.6"
  }
 },
 "nbformat": 4,
 "nbformat_minor": 5
}
